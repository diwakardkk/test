{
  "nbformat": 4,
  "nbformat_minor": 0,
  "metadata": {
    "colab": {
      "provenance": [],
      "authorship_tag": "ABX9TyOpzIte92U3cMPjPUXaMad4",
      "include_colab_link": true
    },
    "kernelspec": {
      "name": "python3",
      "display_name": "Python 3"
    },
    "language_info": {
      "name": "python"
    }
  },
  "cells": [
    {
      "cell_type": "markdown",
      "metadata": {
        "id": "view-in-github",
        "colab_type": "text"
      },
      "source": [
        "<a href=\"https://colab.research.google.com/github/diwakardkk/test/blob/main/Pac_Man.ipynb\" target=\"_parent\"><img src=\"https://colab.research.google.com/assets/colab-badge.svg\" alt=\"Open In Colab\"/></a>"
      ]
    },
    {
      "cell_type": "code",
      "execution_count": 1,
      "metadata": {
        "colab": {
          "base_uri": "https://localhost:8080/"
        },
        "id": "EB1gy_U-WEm0",
        "outputId": "816a6d77-bcbf-4db6-c165-4adc5e3c1f7d"
      },
      "outputs": [
        {
          "output_type": "stream",
          "name": "stdout",
          "text": [
            "Requirement already satisfied: pygame in /usr/local/lib/python3.10/dist-packages (2.6.0)\n"
          ]
        }
      ],
      "source": [
        "pip install pygame"
      ]
    },
    {
      "cell_type": "code",
      "source": [
        "\n",
        "import pygame\n",
        "import random\n",
        "import sys\n",
        "\n",
        "# Initialize Pygame\n",
        "pygame.init()\n",
        "\n",
        "# Screen dimensions\n",
        "SCREEN_WIDTH = 800\n",
        "SCREEN_HEIGHT = 600\n",
        "screen = pygame.display.set_mode((SCREEN_WIDTH, SCREEN_HEIGHT))\n",
        "pygame.display.set_caption(\"Pac-Man Enhanced\")\n",
        "\n",
        "# Colors\n",
        "BLACK = (0, 0, 0)\n",
        "YELLOW = (255, 255, 0)\n",
        "GREEN = (0, 255, 0)\n",
        "RED = (255, 0, 0)\n",
        "WHITE = (255, 255, 255)\n",
        "\n",
        "# Pac-Man settings\n",
        "pacman_size = 50\n",
        "pacman_x = SCREEN_WIDTH // 2\n",
        "pacman_y = SCREEN_HEIGHT // 2\n",
        "pacman_speed = 5\n",
        "\n",
        "# Positive point ball settings\n",
        "positive_ball_size = 20\n",
        "positive_balls = [(random.randint(0, SCREEN_WIDTH - positive_ball_size),\n",
        "                   random.randint(0, SCREEN_HEIGHT - positive_ball_size))]\n",
        "\n",
        "# Negative point ball settings\n",
        "negative_ball_size = 20\n",
        "negative_balls = []\n",
        "for _ in range(5):\n",
        "    neg_ball_x = random.randint(0, SCREEN_WIDTH - negative_ball_size)\n",
        "    neg_ball_y = random.randint(0, SCREEN_HEIGHT - negative_ball_size)\n",
        "    neg_ball_speed_x = random.choice([-3, 3])\n",
        "    neg_ball_speed_y = random.choice([-3, 3])\n",
        "    negative_balls.append([neg_ball_x, neg_ball_y, neg_ball_speed_x, neg_ball_speed_y])\n",
        "\n",
        "# Game settings\n",
        "font = pygame.font.Font(None, 36)\n",
        "score = 0\n",
        "game_over = False\n",
        "\n",
        "# Game loop flag\n",
        "running = True\n",
        "\n",
        "# Game loop\n",
        "while running:\n",
        "    for event in pygame.event.get():\n",
        "        if event.type == pygame.QUIT:\n",
        "            running = False\n",
        "\n",
        "    # Get key states\n",
        "    keys = pygame.key.get_pressed()\n",
        "    if keys[pygame.K_LEFT]:\n",
        "        pacman_x -= pacman_speed\n",
        "    if keys[pygame.K_RIGHT]:\n",
        "        pacman_x += pacman_speed\n",
        "    if keys[pygame.K_UP]:\n",
        "        pacman_y -= pacman_speed\n",
        "    if keys[pygame.K_DOWN]:\n",
        "        pacman_y += pacman_speed\n",
        "\n",
        "    # Ensure Pac-Man stays within screen bounds\n",
        "    if pacman_x < 0:\n",
        "        pacman_x = 0\n",
        "    if pacman_x > SCREEN_WIDTH - pacman_size:\n",
        "        pacman_x = SCREEN_WIDTH - pacman_size\n",
        "    if pacman_y < 0:\n",
        "        pacman_y = 0\n",
        "    if pacman_y > SCREEN_HEIGHT - pacman_size:\n",
        "        pacman_y = SCREEN_HEIGHT - pacman_size\n",
        "\n",
        "    # Move negative point balls\n",
        "    for neg_ball in negative_balls:\n",
        "        neg_ball[0] += neg_ball[2]\n",
        "        neg_ball[1] += neg_ball[3]\n",
        "        # Bounce negative balls off walls\n",
        "        if neg_ball[0] < 0 or neg_ball[0] > SCREEN_WIDTH - negative_ball_size:\n",
        "            neg_ball[2] = -neg_ball[2]\n",
        "        if neg_ball[1] < 0 or neg_ball[1] > SCREEN_HEIGHT - negative_ball_size:\n",
        "            neg_ball[3] = -neg_ball[3]\n",
        "\n",
        "    # Check collisions with positive balls\n",
        "    new_positive_balls = []\n",
        "    for (x, y) in positive_balls:\n",
        "        if not (pacman_x < x < pacman_x + pacman_size and pacman_y < y < pacman_y + pacman_size):\n",
        "            new_positive_balls.append((x, y))\n",
        "        else:\n",
        "            score += 10\n",
        "    positive_balls = new_positive_balls\n",
        "    if len(positive_balls) < 1:\n",
        "        positive_balls.append((random.randint(0, SCREEN_WIDTH - positive_ball_size),\n",
        "                               random.randint(0, SCREEN_HEIGHT - positive_ball_size)))\n",
        "\n",
        "    # Check collision with negative balls\n",
        "    for neg_ball in negative_balls:\n",
        "        if (pacman_x < neg_ball[0] < pacman_x + pacman_size and pacman_y < neg_ball[1] < pacman_y + pacman_size):\n",
        "            score -= 50\n",
        "\n",
        "    # Clear screen\n",
        "    screen.fill(BLACK)\n",
        "\n",
        "    # Draw Pac-Man (as a simple yellow circle)\n",
        "    pygame.draw.circle(screen, YELLOW, (pacman_x + pacman_size // 2, pacman_y + pacman_size // 2), pacman_size // 2)\n",
        "\n",
        "    # Draw positive point balls\n",
        "    for (x, y) in positive_balls:\n",
        "        pygame.draw.circle(screen, GREEN, (x + positive_ball_size // 2, y + positive_ball_size // 2), positive_ball_size // 2)\n",
        "\n",
        "    # Draw negative point balls\n",
        "    for neg_ball in negative_balls:\n",
        "        pygame.draw.circle(screen, RED, (neg_ball[0] + negative_ball_size // 2, neg_ball[1] + negative_ball_size // 2), negative_ball_size // 2)\n",
        "\n",
        "    # Draw score\n",
        "    score_text = font.render(f\"Score: {score}\", True, WHITE)\n",
        "    screen.blit(score_text, (10, 10))\n",
        "\n",
        "    # Update display\n",
        "    pygame.display.flip()\n",
        "\n",
        "    # Cap the frame rate\n",
        "    pygame.time.Clock().tick(30)\n",
        "\n",
        "# Quit Pygame\n",
        "pygame.quit()\n",
        "sys.exit()"
      ],
      "metadata": {
        "colab": {
          "base_uri": "https://localhost:8080/"
        },
        "id": "Ii1Ah-JdWL7H",
        "outputId": "49f48771-bd33-4f75-a17f-78bcb97c62f1"
      },
      "execution_count": null,
      "outputs": [
        {
          "output_type": "stream",
          "name": "stdout",
          "text": [
            "pygame 2.6.0 (SDL 2.28.4, Python 3.10.12)\n",
            "Hello from the pygame community. https://www.pygame.org/contribute.html\n"
          ]
        }
      ]
    }
  ]
}