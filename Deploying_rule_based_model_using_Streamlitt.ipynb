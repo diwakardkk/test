{
  "nbformat": 4,
  "nbformat_minor": 0,
  "metadata": {
    "kernelspec": {
      "display_name": "Python 3",
      "language": "python",
      "name": "python3"
    },
    "language_info": {
      "codemirror_mode": {
        "name": "ipython",
        "version": 3
      },
      "file_extension": ".py",
      "mimetype": "text/x-python",
      "name": "python",
      "nbconvert_exporter": "python",
      "pygments_lexer": "ipython3",
      "version": "3.6.4"
    },
    "colab": {
      "provenance": [],
      "include_colab_link": true
    },
    "accelerator": "GPU"
  },
  "cells": [
    {
      "cell_type": "markdown",
      "metadata": {
        "id": "view-in-github",
        "colab_type": "text"
      },
      "source": [
        "<a href=\"https://colab.research.google.com/github/diwakardkk/test/blob/main/Deploying_rule_based_model_using_Streamlitt.ipynb\" target=\"_parent\"><img src=\"https://colab.research.google.com/assets/colab-badge.svg\" alt=\"Open In Colab\"/></a>"
      ]
    },
    {
      "cell_type": "markdown",
      "metadata": {
        "id": "jPtUSXpZfntZ"
      },
      "source": [
        "## Deploying the rule based model to automate loan prediction\n",
        "\n",
        "1. Building the Frontend of the application\n",
        "2. Loading the data\n",
        "3. Building the model to automate Loan Eligibility\n",
        "4. Deploying the application"
      ]
    },
    {
      "cell_type": "markdown",
      "metadata": {
        "id": "UyQbUqDr7AUK"
      },
      "source": [
        "## 1. Building the Frontend of the application\n",
        "\n",
        "1.1 Install Required Libraries<br>\n",
        "1.2 Creating the Frontend of the app using Streamlit\n",
        "\n",
        "### 1.1 Install Required Libraries"
      ]
    },
    {
      "cell_type": "code",
      "metadata": {
        "id": "8o2Nv-0GVhsv"
      },
      "source": [
        "# installing pyngrok\n",
        "!pip install -q pyngrok"
      ],
      "execution_count": 1,
      "outputs": []
    },
    {
      "cell_type": "code",
      "metadata": {
        "id": "96rKP77EJSvR",
        "colab": {
          "base_uri": "https://localhost:8080/"
        },
        "outputId": "33dfea94-ae6f-48af-8f67-d5b95fa992f8"
      },
      "source": [
        "# installing streamlit\n",
        "!pip install -q streamlit"
      ],
      "execution_count": 2,
      "outputs": [
        {
          "output_type": "stream",
          "name": "stdout",
          "text": [
            "\u001b[2K     \u001b[90m━━━━━━━━━━━━━━━━━━━━━━━━━━━━━━━━━━━━━━━━\u001b[0m \u001b[32m8.6/8.6 MB\u001b[0m \u001b[31m25.0 MB/s\u001b[0m eta \u001b[36m0:00:00\u001b[0m\n",
            "\u001b[2K     \u001b[90m━━━━━━━━━━━━━━━━━━━━━━━━━━━━━━━━━━━━━━━━\u001b[0m \u001b[32m207.3/207.3 kB\u001b[0m \u001b[31m17.9 MB/s\u001b[0m eta \u001b[36m0:00:00\u001b[0m\n",
            "\u001b[2K     \u001b[90m━━━━━━━━━━━━━━━━━━━━━━━━━━━━━━━━━━━━━━━━\u001b[0m \u001b[32m6.9/6.9 MB\u001b[0m \u001b[31m58.0 MB/s\u001b[0m eta \u001b[36m0:00:00\u001b[0m\n",
            "\u001b[2K     \u001b[90m━━━━━━━━━━━━━━━━━━━━━━━━━━━━━━━━━━━━━━━━\u001b[0m \u001b[32m83.0/83.0 kB\u001b[0m \u001b[31m8.8 MB/s\u001b[0m eta \u001b[36m0:00:00\u001b[0m\n",
            "\u001b[2K     \u001b[90m━━━━━━━━━━━━━━━━━━━━━━━━━━━━━━━━━━━━━━━━\u001b[0m \u001b[32m62.7/62.7 kB\u001b[0m \u001b[31m8.3 MB/s\u001b[0m eta \u001b[36m0:00:00\u001b[0m\n",
            "\u001b[?25h"
          ]
        }
      ]
    },
    {
      "cell_type": "code",
      "metadata": {
        "colab": {
          "base_uri": "https://localhost:8080/"
        },
        "id": "6FaA15vWZfyu",
        "outputId": "584cc66c-4a5e-4056-87d9-be1748a4feae"
      },
      "source": [
        "!streamlit version"
      ],
      "execution_count": 3,
      "outputs": [
        {
          "output_type": "stream",
          "name": "stdout",
          "text": [
            "Streamlit, version 1.36.0\n"
          ]
        }
      ]
    },
    {
      "cell_type": "markdown",
      "metadata": {
        "id": "rlKW2k6x7YS-"
      },
      "source": [
        "### 1.2 Creating the frontend of the app using streamlit"
      ]
    },
    {
      "cell_type": "code",
      "metadata": {
        "id": "ZC4c6EMgRYX1",
        "colab": {
          "base_uri": "https://localhost:8080/"
        },
        "outputId": "375014bf-98f6-4b11-f100-16c5c2ff3c88"
      },
      "source": [
        "# creating the script\n",
        "%%writefile app.py\n",
        "\n",
        "# importing streamlit\n",
        "import streamlit as st\n",
        "\n",
        "# this is the main function in which we define our app\n",
        "def main():\n",
        "    # header of the page\n",
        "    st.markdown(\"Check your Loan Eligibility\")\n",
        "\n",
        "    # 2. Loading the data\n",
        "\n",
        "    # following lines create boxes in which user can enter data required to make prediction\n",
        "    Gender = st.selectbox('Gender',(\"Male\",\"Female\",\"Other\"))\n",
        "    Married = st.selectbox('Marital Status',(\"Unmarried\",\"Married\",\"Other\"))\n",
        "    ApplicantIncome = st.number_input(\"Monthly Income in Rupees\")\n",
        "    LoanAmount = st.number_input(\"Loan Amount in Rupees\")\n",
        "    result =\"\"\n",
        "\n",
        "    # when 'Check' is clicked, make the prediction and store it\n",
        "    if st.button(\"Check\"):\n",
        "        result = prediction(Gender, Married, ApplicantIncome, LoanAmount)\n",
        "        st.success('Your loan is {}'.format(result))\n",
        "\n",
        "# defining the function which will make the prediction using the data which the user inputs\n",
        "def prediction(Gender, Married, ApplicantIncome, LoanAmount):\n",
        "\n",
        "    # 3. Building the model to automate Loan Eligibility\n",
        "    if (ApplicantIncome >= 100):\n",
        "        loan_status = 'Approved'\n",
        "    elif (LoanAmount < 100):\n",
        "        loan_status = 'Approved'\n",
        "    else:\n",
        "        loan_status = 'Rejected'\n",
        "    return loan_status\n",
        "\n",
        "if __name__=='__main__':\n",
        "    main()"
      ],
      "execution_count": 4,
      "outputs": [
        {
          "output_type": "stream",
          "name": "stdout",
          "text": [
            "Writing app.py\n"
          ]
        }
      ]
    },
    {
      "cell_type": "markdown",
      "metadata": {
        "id": "dWM7e9709d72"
      },
      "source": [
        "## 4. Deploying the application"
      ]
    },
    {
      "cell_type": "code",
      "metadata": {
        "id": "fLsQUC3qgtZl"
      },
      "source": [
        "# running the app\n",
        "!streamlit run app.py &>/dev/null&"
      ],
      "execution_count": 5,
      "outputs": []
    },
    {
      "cell_type": "code",
      "metadata": {
        "id": "kTg-2Nar2Wsi",
        "colab": {
          "base_uri": "https://localhost:8080/"
        },
        "outputId": "e85c20c9-91e3-40ba-fb5e-6a36a09b001b"
      },
      "source": [
        "!ngrok authtoken <Authentical Key>"
      ],
      "execution_count": 7,
      "outputs": [
        {
          "output_type": "stream",
          "name": "stdout",
          "text": [
            "authtoken - \n",
            "\n",
            "USAGE:\n",
            "  ngrok authtoken TOKEN [flags]\n",
            "\n",
            "AUTHOR:\n",
            "  ngrok - <support@ngrok.com>\n",
            "\n",
            "COMMANDS: \n",
            "  config          update or migrate ngrok's configuration file\n",
            "  http            start an HTTP tunnel\n",
            "  tcp             start a TCP tunnel\n",
            "  tunnel          start a tunnel for use with a tunnel-group backend\n",
            "\n",
            "EXAMPLES: \n",
            "  ngrok http 80                                                 # secure public URL for port 80 web server\n",
            "  ngrok http --domain baz.ngrok.dev 8080                        # port 8080 available at baz.ngrok.dev\n",
            "  ngrok tcp 22                                                  # tunnel arbitrary TCP traffic to port 22\n",
            "  ngrok http 80 --oauth=google --oauth-allow-email=foo@foo.com  # secure your app with oauth\n",
            "\n",
            "Paid Features: \n",
            "  ngrok http 80 --domain mydomain.com                           # run ngrok with your own custom domain\n",
            "  ngrok http 80 --allow-cidr 2600:8c00::a03c:91ee:fe69:9695/32  # run ngrok with IP policy restrictions\n",
            "  Upgrade your account at https://dashboard.ngrok.com/billing/subscription to access paid features\n",
            "\n",
            "Upgrade your account at https://dashboard.ngrok.com/billing/subscription to access paid features\n",
            "\n",
            "Flags:\n",
            "  -h, --help      help for ngrok\n",
            "\n",
            "Use \"ngrok [command] --help\" for more information about a command.\n",
            "\n",
            "ERROR:  accepts 1 arg(s), received 3\n"
          ]
        }
      ]
    },
    {
      "cell_type": "code",
      "source": [
        "from pyngrok import ngrok\n",
        "ngrok.set_auth_token(\"2jMDIddnjuCOmus5U0ASxcKnHK1_84MSTini8xTYyhGs6v3Rc\")"
      ],
      "metadata": {
        "id": "Hmv558vbzTFP"
      },
      "execution_count": 10,
      "outputs": []
    },
    {
      "cell_type": "code",
      "source": [
        "public_url = ngrok.connect('8501')\n",
        "public_url"
      ],
      "metadata": {
        "colab": {
          "base_uri": "https://localhost:8080/"
        },
        "id": "BwGS6CC-zY0z",
        "outputId": "94a26d6e-7dd8-413d-fe29-3d43e26d1a00"
      },
      "execution_count": 11,
      "outputs": [
        {
          "output_type": "execute_result",
          "data": {
            "text/plain": [
              "<NgrokTunnel: \"https://207e-34-127-24-179.ngrok-free.app\" -> \"http://localhost:8501\">"
            ]
          },
          "metadata": {},
          "execution_count": 11
        }
      ]
    },
    {
      "cell_type": "code",
      "source": [],
      "metadata": {
        "id": "IM_CyC13z7eX"
      },
      "execution_count": null,
      "outputs": []
    }
  ]
}
