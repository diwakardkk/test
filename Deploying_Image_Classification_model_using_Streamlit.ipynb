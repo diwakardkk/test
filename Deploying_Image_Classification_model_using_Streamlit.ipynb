{
  "nbformat": 4,
  "nbformat_minor": 0,
  "metadata": {
    "colab": {
      "provenance": [],
      "include_colab_link": true
    },
    "kernelspec": {
      "name": "python3",
      "display_name": "Python 3"
    }
  },
  "cells": [
    {
      "cell_type": "markdown",
      "metadata": {
        "id": "view-in-github",
        "colab_type": "text"
      },
      "source": [
        "<a href=\"https://colab.research.google.com/github/diwakardkk/test/blob/main/Deploying_Image_Classification_model_using_Streamlit.ipynb\" target=\"_parent\"><img src=\"https://colab.research.google.com/assets/colab-badge.svg\" alt=\"Open In Colab\"/></a>"
      ]
    },
    {
      "cell_type": "markdown",
      "metadata": {
        "id": "kLHWo47Y8dwv"
      },
      "source": [
        "## Table of Contents\n",
        "\n",
        "### 1. Deploying Image Classification model\n",
        "> #### 1.1 Install required libraries\n",
        "> #### 1.2 Setup DL model using streamlit\n",
        "> #### 1.3 Deploy DL model on Colab\n",
        "\n",
        "---"
      ]
    },
    {
      "cell_type": "markdown",
      "metadata": {
        "id": "XkAAEMOn8zHN"
      },
      "source": [
        "### 1.1 Install required libraries"
      ]
    },
    {
      "cell_type": "code",
      "metadata": {
        "id": "5aqczRVACdqe",
        "colab": {
          "base_uri": "https://localhost:8080/"
        },
        "outputId": "64ac87ab-b988-4ba1-d3cf-8aa476049ff5"
      },
      "source": [
        "!pip install -q streamlit\n",
        "!pip install -q pyngrok"
      ],
      "execution_count": 1,
      "outputs": [
        {
          "output_type": "stream",
          "name": "stdout",
          "text": [
            "\u001b[2K     \u001b[90m━━━━━━━━━━━━━━━━━━━━━━━━━━━━━━━━━━━━━━━━\u001b[0m \u001b[32m8.6/8.6 MB\u001b[0m \u001b[31m16.2 MB/s\u001b[0m eta \u001b[36m0:00:00\u001b[0m\n",
            "\u001b[2K     \u001b[90m━━━━━━━━━━━━━━━━━━━━━━━━━━━━━━━━━━━━━━━━\u001b[0m \u001b[32m207.3/207.3 kB\u001b[0m \u001b[31m7.4 MB/s\u001b[0m eta \u001b[36m0:00:00\u001b[0m\n",
            "\u001b[2K     \u001b[90m━━━━━━━━━━━━━━━━━━━━━━━━━━━━━━━━━━━━━━━━\u001b[0m \u001b[32m6.9/6.9 MB\u001b[0m \u001b[31m31.5 MB/s\u001b[0m eta \u001b[36m0:00:00\u001b[0m\n",
            "\u001b[2K     \u001b[90m━━━━━━━━━━━━━━━━━━━━━━━━━━━━━━━━━━━━━━━━\u001b[0m \u001b[32m83.0/83.0 kB\u001b[0m \u001b[31m3.2 MB/s\u001b[0m eta \u001b[36m0:00:00\u001b[0m\n",
            "\u001b[2K     \u001b[90m━━━━━━━━━━━━━━━━━━━━━━━━━━━━━━━━━━━━━━━━\u001b[0m \u001b[32m62.7/62.7 kB\u001b[0m \u001b[31m1.3 MB/s\u001b[0m eta \u001b[36m0:00:00\u001b[0m\n",
            "\u001b[?25h"
          ]
        }
      ]
    },
    {
      "cell_type": "markdown",
      "metadata": {
        "id": "KtXTbcNb85kV"
      },
      "source": [
        "### 1.2 Setup DL model using streamlit"
      ]
    },
    {
      "cell_type": "code",
      "metadata": {
        "colab": {
          "base_uri": "https://localhost:8080/"
        },
        "id": "TQMXX9pwUl8R",
        "outputId": "c9bb67d6-e92c-49d1-f690-6ee43a6d205c"
      },
      "source": [
        "# download imagenet classes\n",
        "!wget https://s3.amazonaws.com/deep-learning-models/image-models/imagenet_class_index.json"
      ],
      "execution_count": 2,
      "outputs": [
        {
          "output_type": "stream",
          "name": "stdout",
          "text": [
            "--2024-07-17 09:06:35--  https://s3.amazonaws.com/deep-learning-models/image-models/imagenet_class_index.json\n",
            "Resolving s3.amazonaws.com (s3.amazonaws.com)... 52.217.232.80, 54.231.128.8, 52.216.38.72, ...\n",
            "Connecting to s3.amazonaws.com (s3.amazonaws.com)|52.217.232.80|:443... connected.\n",
            "HTTP request sent, awaiting response... 200 OK\n",
            "Length: 35363 (35K) [application/octet-stream]\n",
            "Saving to: ‘imagenet_class_index.json’\n",
            "\n",
            "imagenet_class_inde 100%[===================>]  34.53K  --.-KB/s    in 0.09s   \n",
            "\n",
            "2024-07-17 09:06:35 (405 KB/s) - ‘imagenet_class_index.json’ saved [35363/35363]\n",
            "\n"
          ]
        }
      ]
    },
    {
      "cell_type": "code",
      "metadata": {
        "colab": {
          "base_uri": "https://localhost:8080/"
        },
        "id": "ghUcHCkXTP-x",
        "outputId": "48f0482b-cdaf-44f0-dd3e-05aa045c358a"
      },
      "source": [
        "%%writefile app.py\n",
        "\n",
        "## create streamlit app\n",
        "\n",
        "# import required libraries and modules\n",
        "import json\n",
        "import numpy as np\n",
        "import matplotlib.pyplot as plt\n",
        "\n",
        "import torch\n",
        "from PIL import Image\n",
        "from torchvision import transforms\n",
        "from torchvision.models import densenet121\n",
        "\n",
        "import streamlit as st\n",
        "\n",
        "# define prediction function\n",
        "def predict(image):\n",
        "    # load DL model\n",
        "    model = densenet121(pretrained=True)\n",
        "\n",
        "    model.eval()\n",
        "\n",
        "    # load classes\n",
        "    with open('imagenet_class_index.json', 'r') as f:\n",
        "        classes = json.load(f)\n",
        "\n",
        "    # preprocess image\n",
        "    preprocess = transforms.Compose([\n",
        "        transforms.Resize(256),\n",
        "        transforms.CenterCrop(224),\n",
        "        transforms.ToTensor(),\n",
        "        transforms.Normalize(mean=[0.485, 0.456, 0.406], std=[0.229, 0.224, 0.225]),\n",
        "    ])\n",
        "    input_tensor = preprocess(input_image)\n",
        "    input_batch = input_tensor.unsqueeze(0) # create a mini-batch as expected by the model\n",
        "\n",
        "    # get prediction\n",
        "    with torch.no_grad():\n",
        "        output = model(input_batch)\n",
        "\n",
        "    pred = torch.nn.functional.softmax(output[0], dim=0).cpu().numpy()\n",
        "\n",
        "    # return confidence and label\n",
        "    confidence = round(max(pred)*100, 2)\n",
        "    label = classes[str(np.argmax(pred))][1]\n",
        "\n",
        "    return confidence, label\n",
        "\n",
        "# define image file uploader\n",
        "image = st.file_uploader(\"Upload image here\")\n",
        "\n",
        "# define button for getting prediction\n",
        "if image is not None and st.button(\"Get prediction\"):\n",
        "    # load image using PIL\n",
        "    input_image = Image.open(image)\n",
        "\n",
        "    # show image\n",
        "    st.image(input_image, use_column_width=True)\n",
        "\n",
        "    # get prediction\n",
        "    confidence, label = predict(input_image)\n",
        "\n",
        "    # print results\n",
        "    \"Model is\", confidence, \"% confident that this image is of a\", label"
      ],
      "execution_count": 3,
      "outputs": [
        {
          "output_type": "stream",
          "name": "stdout",
          "text": [
            "Writing app.py\n"
          ]
        }
      ]
    },
    {
      "cell_type": "markdown",
      "metadata": {
        "id": "5S9s11khrsWx"
      },
      "source": [
        "### 1.3 Deploy DL model on Colab"
      ]
    },
    {
      "cell_type": "code",
      "metadata": {
        "id": "gGggN7mpTXGp"
      },
      "source": [
        "# run streamlit app\n",
        "!streamlit run app.py &>/dev/null&"
      ],
      "execution_count": 5,
      "outputs": []
    },
    {
      "cell_type": "code",
      "source": [
        "!ngrok authtoken AUTHENTICATION_TOKEN"
      ],
      "metadata": {
        "colab": {
          "base_uri": "https://localhost:8080/"
        },
        "id": "28x9Z1w68QII",
        "outputId": "17485e76-3ecd-46f7-b4a3-53f83395277d"
      },
      "execution_count": 6,
      "outputs": [
        {
          "output_type": "stream",
          "name": "stdout",
          "text": [
            "Authtoken saved to configuration file: /root/.config/ngrok/ngrok.yml\n"
          ]
        }
      ]
    },
    {
      "cell_type": "code",
      "metadata": {
        "colab": {
          "base_uri": "https://localhost:8080/"
        },
        "id": "uGstXrZbTkJH",
        "outputId": "94e6f98c-2608-42b4-8272-e64b2519b931"
      },
      "source": [
        "# make streamlit app available publicly\n",
        "from pyngrok import ngrok\n",
        "\n",
        "public_url = ngrok.connect('8501');\n",
        "\n",
        "public_url"
      ],
      "execution_count": 7,
      "outputs": [
        {
          "output_type": "execute_result",
          "data": {
            "text/plain": [
              "<NgrokTunnel: \"https://f483-34-32-166-7.ngrok-free.app\" -> \"http://localhost:8501\">"
            ]
          },
          "metadata": {},
          "execution_count": 7
        }
      ]
    },
    {
      "cell_type": "code",
      "metadata": {
        "id": "bKwEuO3VUBcG"
      },
      "source": [],
      "execution_count": null,
      "outputs": []
    }
  ]
}